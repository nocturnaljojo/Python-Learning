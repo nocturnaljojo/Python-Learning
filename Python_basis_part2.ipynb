{
 "cells": [
  {
   "cell_type": "markdown",
   "id": "7638039b",
   "metadata": {},
   "source": [
    "# Breaking the Flow"
   ]
  },
  {
   "cell_type": "code",
   "execution_count": 1,
   "id": "5976f64b",
   "metadata": {},
   "outputs": [
    {
     "name": "stdout",
     "output_type": "stream",
     "text": [
      "you are old enough to drive!\n",
      "checkcheck\n"
     ]
    }
   ],
   "source": [
    "is_old = True\n",
    "is_licensed = True\n",
    "\n",
    "if is_old:\n",
    "    \n",
    "    print('you are old enough to drive!')\n",
    "print('checkcheck')\n",
    "    "
   ]
  },
  {
   "cell_type": "code",
   "execution_count": 2,
   "id": "02f597b5",
   "metadata": {},
   "outputs": [
    {
     "name": "stdout",
     "output_type": "stream",
     "text": [
      "checkcheck\n"
     ]
    }
   ],
   "source": [
    "is_old = False\n",
    "is_licensed = True\n",
    "\n",
    "if is_old:\n",
    "    \n",
    "    print('you are old enough to drive!')\n",
    "print('checkcheck')\n",
    "    "
   ]
  },
  {
   "cell_type": "code",
   "execution_count": 4,
   "id": "055bff26",
   "metadata": {},
   "outputs": [
    {
     "name": "stdout",
     "output_type": "stream",
     "text": [
      "checkcheck\n"
     ]
    }
   ],
   "source": [
    "is_old = False\n",
    "is_licensed = True\n",
    "\n",
    "if is_old:\n",
    "    \n",
    "    print('you are old enough to drive!')\n",
    "else:\n",
    "    print('checkcheck')\n",
    "    "
   ]
  },
  {
   "cell_type": "code",
   "execution_count": 5,
   "id": "716b24cc",
   "metadata": {},
   "outputs": [
    {
     "name": "stdout",
     "output_type": "stream",
     "text": [
      "you are old enough to drive!\n",
      "okoko\n"
     ]
    }
   ],
   "source": [
    "is_old = True\n",
    "is_licensed = True\n",
    "\n",
    "if is_old:\n",
    "    \n",
    "    print('you are old enough to drive!')\n",
    "else:\n",
    "    print('you are not of age')\n",
    "    \n",
    "print('okoko')   "
   ]
  },
  {
   "cell_type": "code",
   "execution_count": 6,
   "id": "8d139d6a",
   "metadata": {},
   "outputs": [
    {
     "name": "stdout",
     "output_type": "stream",
     "text": [
      "you are old enough to drive!\n",
      "okoko\n"
     ]
    }
   ],
   "source": [
    "is_old = True\n",
    "is_licensed = True\n",
    "\n",
    "if is_old:\n",
    "    \n",
    "    print('you are old enough to drive!')\n",
    "\n",
    "elif is_licensed:\n",
    "    \n",
    "    print('you can drive now!')\n",
    "else:\n",
    "    print('you are not of age')\n",
    "    \n",
    "print('okoko')   "
   ]
  },
  {
   "cell_type": "code",
   "execution_count": 7,
   "id": "680523c7",
   "metadata": {},
   "outputs": [
    {
     "name": "stdout",
     "output_type": "stream",
     "text": [
      "you can drive now!\n",
      "okoko\n"
     ]
    }
   ],
   "source": [
    "is_old = False\n",
    "is_licensed = True\n",
    "\n",
    "if is_old:\n",
    "    \n",
    "    print('you are old enough to drive!')\n",
    "\n",
    "elif is_licensed:\n",
    "    \n",
    "    print('you can drive now!')\n",
    "else:\n",
    "    print('you are not of age')\n",
    "    \n",
    "print('okoko')  "
   ]
  },
  {
   "cell_type": "code",
   "execution_count": 8,
   "id": "b6b11fb3",
   "metadata": {},
   "outputs": [
    {
     "name": "stdout",
     "output_type": "stream",
     "text": [
      "you are not of age\n",
      "okoko\n"
     ]
    }
   ],
   "source": [
    "is_old = False\n",
    "is_licensed = False\n",
    "\n",
    "if is_old:\n",
    "    \n",
    "    print('you are old enough to drive!')\n",
    "\n",
    "elif is_licensed:\n",
    "    \n",
    "    print('you can drive now!')\n",
    "else:\n",
    "    print('you are not of age')\n",
    "    \n",
    "print('okoko')  "
   ]
  },
  {
   "cell_type": "code",
   "execution_count": 10,
   "id": "1ac89217",
   "metadata": {},
   "outputs": [
    {
     "name": "stdout",
     "output_type": "stream",
     "text": [
      "you are old enough to drive, and you have a license!\n",
      "okoko\n"
     ]
    }
   ],
   "source": [
    "is_old = True\n",
    "is_licensed = True\n",
    "\n",
    "if is_old and is_licensed:\n",
    "    \n",
    "    print('you are old enough to drive, and you have a license!')\n",
    "\n",
    "elif is_licensed:\n",
    "    \n",
    "    print('you can drive now!')\n",
    "else:\n",
    "    print('you are not of age')\n",
    "    \n",
    "print('okoko')  "
   ]
  },
  {
   "cell_type": "markdown",
   "id": "61e3824d",
   "metadata": {},
   "source": [
    "## Indentation in Python"
   ]
  },
  {
   "cell_type": "code",
   "execution_count": 11,
   "id": "ef127648",
   "metadata": {},
   "outputs": [
    {
     "name": "stdout",
     "output_type": "stream",
     "text": [
      "you are old enough to drive, and you have a license!\n"
     ]
    }
   ],
   "source": [
    "is_old = True\n",
    "is_licensed = True\n",
    "\n",
    "if is_old and is_licensed:\n",
    "    \n",
    "    print('you are old enough to drive, and you have a license!')\n",
    "\n",
    "elif is_licensed:\n",
    "    \n",
    "    print('you can drive now!')\n",
    "else:\n",
    "    print('you are not of age')\n",
    "    \n",
    "    print('okoko')  "
   ]
  },
  {
   "cell_type": "code",
   "execution_count": 12,
   "id": "db715ef6",
   "metadata": {},
   "outputs": [
    {
     "name": "stdout",
     "output_type": "stream",
     "text": [
      "you are not of age\n",
      "okoko\n"
     ]
    }
   ],
   "source": [
    "is_old = True\n",
    "is_licensed = False\n",
    "\n",
    "if is_old and is_licensed:\n",
    "    \n",
    "    print('you are old enough to drive, and you have a license!')\n",
    "\n",
    "elif is_licensed:\n",
    "    \n",
    "    print('you can drive now!')\n",
    "else:\n",
    "    print('you are not of age')\n",
    "    \n",
    "    print('okoko')  "
   ]
  },
  {
   "cell_type": "markdown",
   "id": "3adcecbc",
   "metadata": {},
   "source": [
    "# Truthy vs Falsey"
   ]
  },
  {
   "cell_type": "code",
   "execution_count": 13,
   "id": "6472b9fa",
   "metadata": {},
   "outputs": [
    {
     "name": "stdout",
     "output_type": "stream",
     "text": [
      "you are old enough to drive, and you have a license!\n"
     ]
    }
   ],
   "source": [
    "is_old = 'hello'\n",
    "is_licensed = 5\n",
    "\n",
    "if is_old and is_licensed:\n",
    "    \n",
    "    print('you are old enough to drive, and you have a license!')\n",
    "\n",
    "elif is_licensed:\n",
    "    \n",
    "    print('you can drive now!')\n",
    "else:\n",
    "    print('you are not of age')\n",
    "    \n",
    "    print('okoko')  "
   ]
  },
  {
   "cell_type": "code",
   "execution_count": 14,
   "id": "b8d268ea",
   "metadata": {},
   "outputs": [
    {
     "name": "stdout",
     "output_type": "stream",
     "text": [
      "True\n",
      "True\n",
      "you are old enough to drive, and you have a license!\n"
     ]
    }
   ],
   "source": [
    "is_old = bool('hello')\n",
    "is_licensed = bool(5)\n",
    "\n",
    "print(bool('hello'))\n",
    "print(bool(5))\n",
    "# Truthy vs Falsey\n",
    "\n",
    "if is_old and is_licensed:\n",
    "    \n",
    "    print('you are old enough to drive, and you have a license!')\n",
    "\n",
    "elif is_licensed:\n",
    "    \n",
    "    print('you can drive now!')\n",
    "else:\n",
    "    print('you are not of age')\n",
    "    \n",
    "    print('okoko')  "
   ]
  },
  {
   "cell_type": "code",
   "execution_count": 15,
   "id": "f21ebfb3",
   "metadata": {},
   "outputs": [
    {
     "name": "stdout",
     "output_type": "stream",
     "text": [
      "False\n",
      "False\n",
      "you are old enough to drive, and you have a license!\n"
     ]
    }
   ],
   "source": [
    "is_old = bool('hello')\n",
    "is_licensed = bool(5)\n",
    "\n",
    "print(bool(''))\n",
    "print(bool(0))\n",
    "\n",
    "# Truthy vs Falsey\n",
    "\n",
    "if is_old and is_licensed:\n",
    "    \n",
    "    print('you are old enough to drive, and you have a license!')\n",
    "\n",
    "elif is_licensed:\n",
    "    \n",
    "    print('you can drive now!')\n",
    "else:\n",
    "    print('you are not of age')\n",
    "    \n",
    "    print('okoko')  "
   ]
  },
  {
   "cell_type": "markdown",
   "id": "c10c3be3",
   "metadata": {},
   "source": [
    "## Ternary Operator\n",
    "\n",
    "It is similar to if, else conditional expression but in short hand to evaluate\n",
    "to something based on the condition if it is true or not"
   ]
  },
  {
   "cell_type": "code",
   "execution_count": 16,
   "id": "9d9bdc1f",
   "metadata": {},
   "outputs": [
    {
     "name": "stdout",
     "output_type": "stream",
     "text": [
      "message allowed\n"
     ]
    }
   ],
   "source": [
    "# condition_if_true if condition else condition_if_else\n",
    "is_friend = True\n",
    "\n",
    "can_message = 'message allowed' if is_friend else \" not allowed to message\"\n",
    "\n",
    "print(can_message)"
   ]
  },
  {
   "cell_type": "code",
   "execution_count": 17,
   "id": "29bf51ec",
   "metadata": {},
   "outputs": [
    {
     "name": "stdout",
     "output_type": "stream",
     "text": [
      " not allowed to message\n"
     ]
    }
   ],
   "source": [
    "# condition_if_true if condition else condition_if_else\n",
    "is_friend = False\n",
    "\n",
    "can_message = 'message allowed' if is_friend else \" not allowed to message\"\n",
    "\n",
    "print(can_message)"
   ]
  },
  {
   "cell_type": "markdown",
   "id": "50c68ef3",
   "metadata": {},
   "source": [
    "## Short Circuiting"
   ]
  },
  {
   "cell_type": "code",
   "execution_count": 18,
   "id": "a8977083",
   "metadata": {},
   "outputs": [
    {
     "name": "stdout",
     "output_type": "stream",
     "text": [
      "True\n"
     ]
    }
   ],
   "source": [
    "# Short Circuiting \n",
    "\n",
    "is_friend = True\n",
    "is_User = True\n",
    "\n",
    "print(is_friend and is_User)"
   ]
  },
  {
   "cell_type": "code",
   "execution_count": 19,
   "id": "d4c22b74",
   "metadata": {},
   "outputs": [
    {
     "name": "stdout",
     "output_type": "stream",
     "text": [
      "best friends forever\n"
     ]
    }
   ],
   "source": [
    "# Short Circuiting \n",
    "\n",
    "is_friend = True\n",
    "is_User = True\n",
    "\n",
    "if is_friend and is_User:\n",
    "    print('best friends forever') # if both is True then print\n",
    "\n"
   ]
  },
  {
   "cell_type": "code",
   "execution_count": 20,
   "id": "8ab0d2f9",
   "metadata": {},
   "outputs": [
    {
     "name": "stdout",
     "output_type": "stream",
     "text": [
      "best friends forever\n"
     ]
    }
   ],
   "source": [
    "# Short Circuiting \n",
    "\n",
    "is_friend = True\n",
    "is_User = True\n",
    "\n",
    "if is_friend or is_User:\n",
    "    print('best friends forever') # if either one is True then print"
   ]
  },
  {
   "cell_type": "markdown",
   "id": "e061845f",
   "metadata": {},
   "source": [
    "## Logical Operators"
   ]
  },
  {
   "cell_type": "code",
   "execution_count": 21,
   "id": "3c439058",
   "metadata": {},
   "outputs": [
    {
     "name": "stdout",
     "output_type": "stream",
     "text": [
      "False\n"
     ]
    }
   ],
   "source": [
    "print(4>5)"
   ]
  },
  {
   "cell_type": "code",
   "execution_count": 22,
   "id": "f9b83b0e",
   "metadata": {},
   "outputs": [
    {
     "name": "stdout",
     "output_type": "stream",
     "text": [
      "True\n"
     ]
    }
   ],
   "source": [
    "print(4<5)"
   ]
  },
  {
   "cell_type": "code",
   "execution_count": 23,
   "id": "74b68313",
   "metadata": {},
   "outputs": [
    {
     "name": "stdout",
     "output_type": "stream",
     "text": [
      "False\n"
     ]
    }
   ],
   "source": [
    "print(4==5)"
   ]
  },
  {
   "cell_type": "code",
   "execution_count": 24,
   "id": "68dd044a",
   "metadata": {},
   "outputs": [
    {
     "ename": "SyntaxError",
     "evalue": "expression cannot contain assignment, perhaps you meant \"==\"? (Temp/ipykernel_3720/3574232744.py, line 2)",
     "output_type": "error",
     "traceback": [
      "\u001b[1;36m  File \u001b[1;32m\"C:\\Users\\Operator\\AppData\\Local\\Temp/ipykernel_3720/3574232744.py\"\u001b[1;36m, line \u001b[1;32m2\u001b[0m\n\u001b[1;33m    print(4=5)\u001b[0m\n\u001b[1;37m          ^\u001b[0m\n\u001b[1;31mSyntaxError\u001b[0m\u001b[1;31m:\u001b[0m expression cannot contain assignment, perhaps you meant \"==\"?\n"
     ]
    }
   ],
   "source": [
    "# key word cannot be an expression\n",
    "print(4=5)"
   ]
  },
  {
   "cell_type": "code",
   "execution_count": 25,
   "id": "a2f40948",
   "metadata": {},
   "outputs": [
    {
     "name": "stdout",
     "output_type": "stream",
     "text": [
      "False\n"
     ]
    }
   ],
   "source": [
    "# Use double equal \n",
    "print(4 == 5)"
   ]
  },
  {
   "cell_type": "code",
   "execution_count": 26,
   "id": "c05c21c1",
   "metadata": {},
   "outputs": [
    {
     "name": "stdout",
     "output_type": "stream",
     "text": [
      "False\n"
     ]
    }
   ],
   "source": [
    "print('a'>'b')"
   ]
  },
  {
   "cell_type": "code",
   "execution_count": 27,
   "id": "da5cd920",
   "metadata": {},
   "outputs": [
    {
     "name": "stdout",
     "output_type": "stream",
     "text": [
      "True\n"
     ]
    }
   ],
   "source": [
    "print('a'>'A')"
   ]
  },
  {
   "cell_type": "code",
   "execution_count": 28,
   "id": "70f4bac7",
   "metadata": {},
   "outputs": [
    {
     "name": "stdout",
     "output_type": "stream",
     "text": [
      "False\n"
     ]
    }
   ],
   "source": [
    "print(1<2>3<4)"
   ]
  },
  {
   "cell_type": "code",
   "execution_count": 29,
   "id": "781e8e3d",
   "metadata": {},
   "outputs": [
    {
     "name": "stdout",
     "output_type": "stream",
     "text": [
      "True\n"
     ]
    }
   ],
   "source": [
    "print(1>=0)"
   ]
  },
  {
   "cell_type": "code",
   "execution_count": 30,
   "id": "3c13d262",
   "metadata": {},
   "outputs": [
    {
     "name": "stdout",
     "output_type": "stream",
     "text": [
      "False\n"
     ]
    }
   ],
   "source": [
    "print(1<=0)"
   ]
  },
  {
   "cell_type": "code",
   "execution_count": 31,
   "id": "a8ca19d9",
   "metadata": {},
   "outputs": [
    {
     "name": "stdout",
     "output_type": "stream",
     "text": [
      "False\n"
     ]
    }
   ],
   "source": [
    "print(0 != 0) # the ! means not equal to"
   ]
  },
  {
   "cell_type": "code",
   "execution_count": 32,
   "id": "e69a58cb",
   "metadata": {},
   "outputs": [
    {
     "name": "stdout",
     "output_type": "stream",
     "text": [
      "True\n"
     ]
    }
   ],
   "source": [
    "print(0 != 1) # the ! means not equal to"
   ]
  },
  {
   "cell_type": "code",
   "execution_count": 33,
   "id": "d1bc7c6d",
   "metadata": {},
   "outputs": [
    {
     "name": "stdout",
     "output_type": "stream",
     "text": [
      "False\n"
     ]
    }
   ],
   "source": [
    "print(not(True)) # not is a keyword and also a function"
   ]
  },
  {
   "cell_type": "code",
   "execution_count": 34,
   "id": "f037fe91",
   "metadata": {},
   "outputs": [
    {
     "name": "stdout",
     "output_type": "stream",
     "text": [
      "False\n"
     ]
    }
   ],
   "source": [
    "print(not(1 == 1))"
   ]
  },
  {
   "cell_type": "markdown",
   "id": "d7ee531d",
   "metadata": {},
   "source": [
    "## Exercise: Logical Operators"
   ]
  },
  {
   "cell_type": "code",
   "execution_count": 39,
   "id": "515cc9bf",
   "metadata": {},
   "outputs": [
    {
     "name": "stdout",
     "output_type": "stream",
     "text": [
      "You are a master magician\n"
     ]
    }
   ],
   "source": [
    "is_magician = True\n",
    "is_expert = True\n",
    "\n",
    "# Check if magician AND expert: \"You are a master magician\"\n",
    "\n",
    "# Check if magician but not expert:\n",
    "# \"at least you're getting there\"\n",
    "\n",
    "# if you're not a magician:\" You need magic powers\"\n",
    "\n",
    "\n",
    "if is_magician and is_expert:\n",
    "    print('You are a master magician')\n",
    "    \n",
    "elif is_magician and not(is_expert):\n",
    "    print(\"at least you're getting there\")\n",
    "\n",
    "else: print('You need magic powers')"
   ]
  },
  {
   "cell_type": "code",
   "execution_count": 40,
   "id": "d5f33721",
   "metadata": {},
   "outputs": [
    {
     "name": "stdout",
     "output_type": "stream",
     "text": [
      "at least you're getting there\n"
     ]
    }
   ],
   "source": [
    "is_magician = True\n",
    "is_expert = False\n",
    "\n",
    "# Check if magician AND expert: \"You are a master magician\"\n",
    "\n",
    "# Check if magician but not expert:\n",
    "# \"at least you're getting there\"\n",
    "\n",
    "# if you're not a magician:\" You need magic powers\"\n",
    "\n",
    "\n",
    "if is_magician and is_expert:\n",
    "    print('You are a master magician')\n",
    "    \n",
    "elif is_magician and not(is_expert):\n",
    "    print(\"at least you're getting there\")\n",
    "\n",
    "else: print('You need magic powers')"
   ]
  },
  {
   "cell_type": "code",
   "execution_count": 41,
   "id": "5793d1b3",
   "metadata": {},
   "outputs": [
    {
     "name": "stdout",
     "output_type": "stream",
     "text": [
      "You need magic powers\n"
     ]
    }
   ],
   "source": [
    "is_magician = False\n",
    "is_expert = False\n",
    "\n",
    "# Check if magician AND expert: \"You are a master magician\"\n",
    "\n",
    "# Check if magician but not expert:\n",
    "# \"at least you're getting there\"\n",
    "\n",
    "# if you're not a magician:\" You need magic powers\"\n",
    "\n",
    "\n",
    "if is_magician and is_expert:\n",
    "    print('You are a master magician')\n",
    "    \n",
    "elif is_magician and not(is_expert):\n",
    "    print(\"at least you're getting there\")\n",
    "\n",
    "else: print('You need magic powers')"
   ]
  },
  {
   "cell_type": "markdown",
   "id": "cd2387ca",
   "metadata": {},
   "source": [
    "## is vs=="
   ]
  },
  {
   "cell_type": "code",
   "execution_count": 42,
   "id": "dea5f8c4",
   "metadata": {},
   "outputs": [
    {
     "name": "stdout",
     "output_type": "stream",
     "text": [
      "True\n",
      "False\n",
      "False\n",
      "True\n",
      "True\n"
     ]
    }
   ],
   "source": [
    "print( True == True)\n",
    "print('' == 1)\n",
    "print([] == 1)\n",
    "print(10 == 10.0)\n",
    "print([] == [])"
   ]
  },
  {
   "cell_type": "code",
   "execution_count": 43,
   "id": "abcf812f",
   "metadata": {},
   "outputs": [
    {
     "name": "stdout",
     "output_type": "stream",
     "text": [
      "True\n",
      "False\n",
      "False\n",
      "True\n",
      "True\n"
     ]
    }
   ],
   "source": [
    "print( True == True)\n",
    "print('' == 1)\n",
    "print([] == 1)\n",
    "print(10 == 10.0)\n",
    "print([1,2,3] == [1,2,3])\n",
    "\n",
    "# You should be comparing two types of the same data when using these"
   ]
  },
  {
   "cell_type": "code",
   "execution_count": 46,
   "id": "c3039ce8",
   "metadata": {},
   "outputs": [
    {
     "name": "stdout",
     "output_type": "stream",
     "text": [
      "False\n",
      "False\n",
      "False\n",
      "False\n",
      "False\n"
     ]
    },
    {
     "name": "stderr",
     "output_type": "stream",
     "text": [
      "<>:1: SyntaxWarning: \"is\" with a literal. Did you mean \"==\"?\n",
      "<>:2: SyntaxWarning: \"is\" with a literal. Did you mean \"==\"?\n",
      "<>:3: SyntaxWarning: \"is\" with a literal. Did you mean \"==\"?\n",
      "<>:4: SyntaxWarning: \"is\" with a literal. Did you mean \"==\"?\n",
      "<>:1: SyntaxWarning: \"is\" with a literal. Did you mean \"==\"?\n",
      "<>:2: SyntaxWarning: \"is\" with a literal. Did you mean \"==\"?\n",
      "<>:3: SyntaxWarning: \"is\" with a literal. Did you mean \"==\"?\n",
      "<>:4: SyntaxWarning: \"is\" with a literal. Did you mean \"==\"?\n",
      "C:\\Users\\Operator\\AppData\\Local\\Temp/ipykernel_3720/1508328397.py:1: SyntaxWarning: \"is\" with a literal. Did you mean \"==\"?\n",
      "  print( True is 1)\n",
      "C:\\Users\\Operator\\AppData\\Local\\Temp/ipykernel_3720/1508328397.py:2: SyntaxWarning: \"is\" with a literal. Did you mean \"==\"?\n",
      "  print('1' is 1)\n",
      "C:\\Users\\Operator\\AppData\\Local\\Temp/ipykernel_3720/1508328397.py:3: SyntaxWarning: \"is\" with a literal. Did you mean \"==\"?\n",
      "  print([] is 1)\n",
      "C:\\Users\\Operator\\AppData\\Local\\Temp/ipykernel_3720/1508328397.py:4: SyntaxWarning: \"is\" with a literal. Did you mean \"==\"?\n",
      "  print(10 is 10.0)\n"
     ]
    }
   ],
   "source": [
    "print( True is 1)\n",
    "print('1' is 1)\n",
    "print([] is 1)\n",
    "print(10 is 10.0)\n",
    "print([1,2,3] is [1,2,3])\n",
    "\n",
    "# You should be comparing two types of the same data when using these"
   ]
  },
  {
   "cell_type": "code",
   "execution_count": 47,
   "id": "db4ffc35",
   "metadata": {},
   "outputs": [
    {
     "name": "stdout",
     "output_type": "stream",
     "text": [
      "True\n",
      "True\n",
      "False\n",
      "False\n",
      "False\n"
     ]
    },
    {
     "name": "stderr",
     "output_type": "stream",
     "text": [
      "<>:2: SyntaxWarning: \"is\" with a literal. Did you mean \"==\"?\n",
      "<>:4: SyntaxWarning: \"is\" with a literal. Did you mean \"==\"?\n",
      "<>:2: SyntaxWarning: \"is\" with a literal. Did you mean \"==\"?\n",
      "<>:4: SyntaxWarning: \"is\" with a literal. Did you mean \"==\"?\n",
      "C:\\Users\\Operator\\AppData\\Local\\Temp/ipykernel_3720/2565860559.py:2: SyntaxWarning: \"is\" with a literal. Did you mean \"==\"?\n",
      "  print('1' is '1')\n",
      "C:\\Users\\Operator\\AppData\\Local\\Temp/ipykernel_3720/2565860559.py:4: SyntaxWarning: \"is\" with a literal. Did you mean \"==\"?\n",
      "  print(10 is 10.0)\n"
     ]
    }
   ],
   "source": [
    "print( True is True)\n",
    "print('1' is '1')\n",
    "print([] is []) # these are two completely different list stored in a different location shelved in the backend\n",
    "print(10 is 10.0)\n",
    "print([1,2,3] is [1,2,3])\n",
    "\n",
    "# You should be comparing two types of the same data when using these"
   ]
  },
  {
   "cell_type": "code",
   "execution_count": 48,
   "id": "4160cd48",
   "metadata": {},
   "outputs": [
    {
     "name": "stdout",
     "output_type": "stream",
     "text": [
      "True\n",
      "True\n",
      "False\n",
      "True\n",
      "False\n"
     ]
    },
    {
     "name": "stderr",
     "output_type": "stream",
     "text": [
      "<>:2: SyntaxWarning: \"is\" with a literal. Did you mean \"==\"?\n",
      "<>:4: SyntaxWarning: \"is\" with a literal. Did you mean \"==\"?\n",
      "<>:2: SyntaxWarning: \"is\" with a literal. Did you mean \"==\"?\n",
      "<>:4: SyntaxWarning: \"is\" with a literal. Did you mean \"==\"?\n",
      "C:\\Users\\Operator\\AppData\\Local\\Temp/ipykernel_3720/3257763007.py:2: SyntaxWarning: \"is\" with a literal. Did you mean \"==\"?\n",
      "  print('1' is '1')\n",
      "C:\\Users\\Operator\\AppData\\Local\\Temp/ipykernel_3720/3257763007.py:4: SyntaxWarning: \"is\" with a literal. Did you mean \"==\"?\n",
      "  print(10 is 10)\n"
     ]
    }
   ],
   "source": [
    "print( True is True)\n",
    "print('1' is '1')\n",
    "print([] is []) # these are two completely different list stored in a different location shelved in the backend\n",
    "print(10 is 10)\n",
    "print([1,2,3] is [1,2,3])\n",
    "\n",
    "# You should be comparing two types of the same data when using these"
   ]
  },
  {
   "cell_type": "code",
   "execution_count": 49,
   "id": "1a04dd42",
   "metadata": {},
   "outputs": [
    {
     "name": "stdout",
     "output_type": "stream",
     "text": [
      "True\n",
      "True\n",
      "False\n",
      "False\n",
      "False\n"
     ]
    },
    {
     "name": "stderr",
     "output_type": "stream",
     "text": [
      "<>:2: SyntaxWarning: \"is\" with a literal. Did you mean \"==\"?\n",
      "<>:4: SyntaxWarning: \"is\" with a literal. Did you mean \"==\"?\n",
      "<>:2: SyntaxWarning: \"is\" with a literal. Did you mean \"==\"?\n",
      "<>:4: SyntaxWarning: \"is\" with a literal. Did you mean \"==\"?\n",
      "C:\\Users\\Operator\\AppData\\Local\\Temp/ipykernel_3720/725954886.py:2: SyntaxWarning: \"is\" with a literal. Did you mean \"==\"?\n",
      "  print('1' is '1')\n",
      "C:\\Users\\Operator\\AppData\\Local\\Temp/ipykernel_3720/725954886.py:4: SyntaxWarning: \"is\" with a literal. Did you mean \"==\"?\n",
      "  print(10 is 10.0)\n"
     ]
    }
   ],
   "source": [
    "print( True is True)\n",
    "print('1' is '1')\n",
    "print([] is []) # these are two completely different list stored in a different location shelved in the backend\n",
    "print(10 is 10.0)\n",
    "a = [1,2,3] \n",
    "b = [1,2,3] \n",
    "print(a is b) # these are two completely different list stored in a different location shelved in the backend\n",
    "\n",
    "# You should be comparing two types of the same data when using these"
   ]
  },
  {
   "cell_type": "code",
   "execution_count": 50,
   "id": "9b026a15",
   "metadata": {},
   "outputs": [
    {
     "name": "stdout",
     "output_type": "stream",
     "text": [
      "True\n",
      "True\n",
      "False\n",
      "False\n",
      "True\n"
     ]
    },
    {
     "name": "stderr",
     "output_type": "stream",
     "text": [
      "<>:2: SyntaxWarning: \"is\" with a literal. Did you mean \"==\"?\n",
      "<>:4: SyntaxWarning: \"is\" with a literal. Did you mean \"==\"?\n",
      "<>:2: SyntaxWarning: \"is\" with a literal. Did you mean \"==\"?\n",
      "<>:4: SyntaxWarning: \"is\" with a literal. Did you mean \"==\"?\n",
      "C:\\Users\\Operator\\AppData\\Local\\Temp/ipykernel_3720/141042542.py:2: SyntaxWarning: \"is\" with a literal. Did you mean \"==\"?\n",
      "  print('1' is '1')\n",
      "C:\\Users\\Operator\\AppData\\Local\\Temp/ipykernel_3720/141042542.py:4: SyntaxWarning: \"is\" with a literal. Did you mean \"==\"?\n",
      "  print(10 is 10.0)\n"
     ]
    }
   ],
   "source": [
    "print( True is True)\n",
    "print('1' is '1')\n",
    "print([] is []) # these are two completely different list stored in a different location shelved in the backend\n",
    "print(10 is 10.0)\n",
    "a = [1,2,3] \n",
    "b = [1,2,3] \n",
    "print(a == b) # these are two completely different list stored in a different location shelved in the backend\n",
    "\n",
    "# You should be comparing two types of the same data when using these"
   ]
  },
  {
   "cell_type": "markdown",
   "id": "a899bff8",
   "metadata": {},
   "source": [
    "## For Loops"
   ]
  },
  {
   "cell_type": "code",
   "execution_count": null,
   "id": "99a362d0",
   "metadata": {},
   "outputs": [],
   "source": []
  }
 ],
 "metadata": {
  "kernelspec": {
   "display_name": "Python 3 (ipykernel)",
   "language": "python",
   "name": "python3"
  },
  "language_info": {
   "codemirror_mode": {
    "name": "ipython",
    "version": 3
   },
   "file_extension": ".py",
   "mimetype": "text/x-python",
   "name": "python",
   "nbconvert_exporter": "python",
   "pygments_lexer": "ipython3",
   "version": "3.9.7"
  }
 },
 "nbformat": 4,
 "nbformat_minor": 5
}
