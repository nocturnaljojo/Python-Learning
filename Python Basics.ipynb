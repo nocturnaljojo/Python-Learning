{
 "cells": [
  {
   "cell_type": "markdown",
   "id": "e1aaaf74",
   "metadata": {},
   "source": [
    "## Formatted Strings "
   ]
  },
  {
   "cell_type": "code",
   "execution_count": 4,
   "id": "1646dfc9",
   "metadata": {},
   "outputs": [
    {
     "name": "stdout",
     "output_type": "stream",
     "text": [
      "hi Johnny! You are 55 years old\n"
     ]
    }
   ],
   "source": [
    "name = 'Johnny'\n",
    "age = 55\n",
    "print('hi '+ name + '! You are ' + str(age) + ' years old')"
   ]
  },
  {
   "cell_type": "code",
   "execution_count": 7,
   "id": "4ba7f4ff",
   "metadata": {},
   "outputs": [
    {
     "name": "stdout",
     "output_type": "stream",
     "text": [
      "hi Johnny! You are 55 years old\n"
     ]
    }
   ],
   "source": [
    "# Using f' also known as the F strings\n",
    "name = 'Johnny'\n",
    "age = 55\n",
    "print(f'hi {name }! You are {age} years old')"
   ]
  },
  {
   "cell_type": "markdown",
   "id": "11cda01b",
   "metadata": {},
   "source": [
    "# String indexes"
   ]
  },
  {
   "cell_type": "code",
   "execution_count": 8,
   "id": "615ac290",
   "metadata": {},
   "outputs": [
    {
     "name": "stdout",
     "output_type": "stream",
     "text": [
      "m\n"
     ]
    }
   ],
   "source": [
    "selfish = 'me me me'\n",
    "        # 01234567\n",
    "print(selfish[0])"
   ]
  },
  {
   "cell_type": "code",
   "execution_count": 9,
   "id": "e958cd12",
   "metadata": {},
   "outputs": [
    {
     "name": "stdout",
     "output_type": "stream",
     "text": [
      "e\n"
     ]
    }
   ],
   "source": [
    "selfish = 'me me me'\n",
    "        # 01234567\n",
    "print(selfish[7])"
   ]
  },
  {
   "cell_type": "code",
   "execution_count": 10,
   "id": "29311f9f",
   "metadata": {},
   "outputs": [
    {
     "name": "stdout",
     "output_type": "stream",
     "text": [
      "me me me\n"
     ]
    }
   ],
   "source": [
    "selfish = 'me me me'\n",
    "        # 01234567\n",
    "print(selfish)"
   ]
  },
  {
   "cell_type": "code",
   "execution_count": 11,
   "id": "de639308",
   "metadata": {},
   "outputs": [
    {
     "name": "stdout",
     "output_type": "stream",
     "text": [
      "me me me\n"
     ]
    }
   ],
   "source": [
    "selfish = 'me me me'\n",
    "        # 01234567\n",
    "        # [start:stop] - when using square brackets this is the format  \n",
    "print(selfish[0:8])"
   ]
  },
  {
   "cell_type": "code",
   "execution_count": 13,
   "id": "fada20b2",
   "metadata": {},
   "outputs": [
    {
     "name": "stdout",
     "output_type": "stream",
     "text": [
      "0246\n"
     ]
    }
   ],
   "source": [
    "selfish = '01234567'\n",
    "        # 01234567\n",
    "        # [start:stop:stepover] - when using square brackets this is the format \n",
    "        # the default step over is 1\n",
    "print(selfish[0:8:2])"
   ]
  },
  {
   "cell_type": "code",
   "execution_count": 14,
   "id": "f5cffbb0",
   "metadata": {},
   "outputs": [
    {
     "name": "stdout",
     "output_type": "stream",
     "text": [
      "76543210\n"
     ]
    }
   ],
   "source": [
    "# This is a method to reverse the order of a string\n",
    "selfish = '01234567'\n",
    "        # 01234567\n",
    "        # [start:stop:stepover] - when using square brackets this is the format \n",
    "        # the default step over is 1\n",
    "print(selfish[::-1])"
   ]
  },
  {
   "cell_type": "code",
   "execution_count": 15,
   "id": "95427c8e",
   "metadata": {},
   "outputs": [
    {
     "name": "stdout",
     "output_type": "stream",
     "text": [
      "7531\n"
     ]
    }
   ],
   "source": [
    "# This is a method to reverse the order of a string\n",
    "selfish = '01234567'\n",
    "        # 01234567\n",
    "        # [start:stop:stepover] - when using square brackets this is the format \n",
    "        # the default step over is 1\n",
    "print(selfish[::-2])\n",
    "\n",
    "# This method of selecting string characters is what is knwon as slicing"
   ]
  },
  {
   "cell_type": "markdown",
   "id": "1f26a1b4",
   "metadata": {},
   "source": [
    "# Immutability"
   ]
  },
  {
   "cell_type": "code",
   "execution_count": null,
   "id": "9091b58f",
   "metadata": {},
   "outputs": [],
   "source": []
  },
  {
   "cell_type": "markdown",
   "id": "4025e1d4",
   "metadata": {},
   "source": [
    "# Built-In-Functions + Methods"
   ]
  },
  {
   "cell_type": "code",
   "execution_count": 16,
   "id": "3a46f089",
   "metadata": {
    "scrolled": true
   },
   "outputs": [
    {
     "name": "stdout",
     "output_type": "stream",
     "text": [
      "9\n"
     ]
    }
   ],
   "source": [
    "print(len('hellloooo'))\n",
    " # when using len it counts from 1 and not 0"
   ]
  },
  {
   "cell_type": "code",
   "execution_count": 17,
   "id": "27f78099",
   "metadata": {},
   "outputs": [
    {
     "name": "stdout",
     "output_type": "stream",
     "text": [
      "hellloooo\n"
     ]
    }
   ],
   "source": [
    "greet = 'hellloooo'\n",
    "print(greet[0:len(greet)])"
   ]
  },
  {
   "cell_type": "markdown",
   "id": "fc75faab",
   "metadata": {},
   "source": [
    "### String methods"
   ]
  },
  {
   "cell_type": "code",
   "execution_count": 20,
   "id": "c08e4775",
   "metadata": {},
   "outputs": [
    {
     "name": "stdout",
     "output_type": "stream",
     "text": [
      "TO BE OR NOT TO BE\n"
     ]
    }
   ],
   "source": [
    "quote= 'to be or not to be'\n",
    "print(quote.upper())\n",
    "# the upper function will work like a CAPS LOCK"
   ]
  },
  {
   "cell_type": "code",
   "execution_count": 21,
   "id": "e9202c6e",
   "metadata": {},
   "outputs": [
    {
     "name": "stdout",
     "output_type": "stream",
     "text": [
      "To be or not to be\n"
     ]
    }
   ],
   "source": [
    "quote= 'to be or not to be'\n",
    "print(quote.capitalize())\n",
    "# The capitalize function will capitalise the beginning of the sentence"
   ]
  },
  {
   "cell_type": "code",
   "execution_count": null,
   "id": "1370be01",
   "metadata": {},
   "outputs": [],
   "source": [
    "quote= 'to be or not to be'\n",
    "print(quote.capitalize())\n"
   ]
  },
  {
   "cell_type": "markdown",
   "id": "5546685e",
   "metadata": {},
   "source": [
    "# Booleans"
   ]
  },
  {
   "cell_type": "markdown",
   "id": "06ade677",
   "metadata": {},
   "source": [
    "# Exercise : Type Conversation"
   ]
  },
  {
   "cell_type": "code",
   "execution_count": null,
   "id": "a47fd071",
   "metadata": {},
   "outputs": [],
   "source": []
  }
 ],
 "metadata": {
  "kernelspec": {
   "display_name": "Python 3 (ipykernel)",
   "language": "python",
   "name": "python3"
  },
  "language_info": {
   "codemirror_mode": {
    "name": "ipython",
    "version": 3
   },
   "file_extension": ".py",
   "mimetype": "text/x-python",
   "name": "python",
   "nbconvert_exporter": "python",
   "pygments_lexer": "ipython3",
   "version": "3.9.7"
  }
 },
 "nbformat": 4,
 "nbformat_minor": 5
}
